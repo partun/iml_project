{
 "cells": [
  {
   "cell_type": "code",
   "execution_count": 10,
   "metadata": {},
   "outputs": [],
   "source": [
    "import preprocessor as pp\n",
    "import numpy as np\n",
    "import tensorflow as tf\n",
    "#import tensorflow_addons as tfa\n",
    "from sklearn.metrics import r2_score\n",
    "from sklearn.metrics import roc_auc_score\n",
    "from sklearn.model_selection import train_test_split"
   ]
  },
  {
   "cell_type": "code",
   "execution_count": 11,
   "metadata": {},
   "outputs": [
    {
     "output_type": "execute_result",
     "data": {
      "text/plain": "['5', '5']"
     },
     "metadata": {},
     "execution_count": 11
    }
   ],
   "source": [
    "['5'] * np.zeros((2,3)).shape[0]"
   ]
  },
  {
   "cell_type": "code",
   "execution_count": 2,
   "metadata": {},
   "outputs": [],
   "source": [
    "def gen_output_files(ids, p_tests, p_sepsis, p_vitals, filename='output.csv'):\n",
    "    header = 'pid,LABEL_BaseExcess,LABEL_Fibrinogen,LABEL_AST,LABEL_Alkalinephos,LABEL_Bilirubin_total,LABEL_Lactate,LABEL_TroponinI,LABEL_SaO2,LABEL_Bilirubin_direct,LABEL_EtCO2,LABEL_Sepsis,LABEL_RRate,LABEL_ABPm,LABEL_SpO2,LABEL_Heartrate'\n",
    "    output = np.concatenate((ids, p_tests, p_sepsis, p_vitals), axis=1)\n",
    "\n",
    "    fmt = ['%d']\n",
    "    for i in range(output.shape[1] - 1):\n",
    "        fmt.append('%.3f')\n",
    "\n",
    "    np.savetxt(filename, output, delimiter=',',\n",
    "               fmt=fmt, header=header, comments='')"
   ]
  },
  {
   "cell_type": "code",
   "execution_count": 3,
   "metadata": {},
   "outputs": [
    {
     "output_type": "stream",
     "name": "stdout",
     "text": "starting data parsing...\nTotal:18995\n    Selected: 18995\n    Removed: 0 (0.00% of total)\n\n"
    }
   ],
   "source": [
    "train_feature_file = 'train_features.csv'\n",
    "train_label_file = 'train_labels.csv'\n",
    "test_features_file = 'test_features.csv'\n",
    "processor = pp.preprocessor(\n",
    "    train_feature_file, train_label_file, test_features_file, normalize=False)\n",
    "\n",
    "print('starting data parsing...')\n",
    "train_ids, train_features = processor.get_train_features()\n",
    "label_ids, label_tests, label_sepsis, label_vitals = processor.get_train_labels()\n",
    "test_ids, test_features = processor.get_test_features()\n"
   ]
  },
  {
   "cell_type": "code",
   "execution_count": 4,
   "metadata": {},
   "outputs": [
    {
     "output_type": "execute_result",
     "data": {
      "text/plain": "array([4.05 , 4.05 , 4.05 , 3.855, 3.66 , 3.66 , 3.66 , 3.66 , 3.66 ,\n       3.66 , 3.66 , 3.66 ])"
     },
     "metadata": {},
     "execution_count": 4
    }
   ],
   "source": [
    "train_features[3, :, 5]"
   ]
  },
  {
   "cell_type": "code",
   "execution_count": 2,
   "metadata": {},
   "outputs": [
    {
     "output_type": "execute_result",
     "data": {
      "text/plain": "'hi hello'"
     },
     "metadata": {},
     "execution_count": 2
    }
   ],
   "source": [
    "'hi {}'.format('hello')"
   ]
  },
  {
   "cell_type": "code",
   "execution_count": 4,
   "metadata": {},
   "outputs": [
    {
     "output_type": "error",
     "ename": "ValueError",
     "evalue": "The truth value of an array with more than one element is ambiguous. Use a.any() or a.all()",
     "traceback": [
      "\u001b[0;31m---------------------------------------------------------------------------\u001b[0m",
      "\u001b[0;31mValueError\u001b[0m                                Traceback (most recent call last)",
      "\u001b[0;32m<ipython-input-4-ba5c37d1f8ab>\u001b[0m in \u001b[0;36m<module>\u001b[0;34m\u001b[0m\n\u001b[1;32m      1\u001b[0m \u001b[0msepsis_cases\u001b[0m \u001b[0;34m=\u001b[0m \u001b[0;34m[\u001b[0m\u001b[0;34m]\u001b[0m\u001b[0;34m\u001b[0m\u001b[0;34m\u001b[0m\u001b[0m\n\u001b[1;32m      2\u001b[0m \u001b[0;32mfor\u001b[0m \u001b[0mi\u001b[0m \u001b[0;32min\u001b[0m \u001b[0mrange\u001b[0m\u001b[0;34m(\u001b[0m\u001b[0mtrain_features\u001b[0m\u001b[0;34m.\u001b[0m\u001b[0mshape\u001b[0m\u001b[0;34m[\u001b[0m\u001b[0;36m0\u001b[0m\u001b[0;34m]\u001b[0m\u001b[0;34m)\u001b[0m\u001b[0;34m:\u001b[0m\u001b[0;34m\u001b[0m\u001b[0;34m\u001b[0m\u001b[0m\n\u001b[0;32m----> 3\u001b[0;31m     \u001b[0;32mif\u001b[0m \u001b[0mlabel_sepsis\u001b[0m\u001b[0;34m[\u001b[0m\u001b[0mi\u001b[0m\u001b[0;34m]\u001b[0m \u001b[0;34m==\u001b[0m \u001b[0;36m1\u001b[0m\u001b[0;34m:\u001b[0m\u001b[0;34m\u001b[0m\u001b[0;34m\u001b[0m\u001b[0m\n\u001b[0m\u001b[1;32m      4\u001b[0m         \u001b[0msepsis_cases\u001b[0m\u001b[0;34m.\u001b[0m\u001b[0mappend\u001b[0m\u001b[0;34m(\u001b[0m\u001b[0mtrain_features\u001b[0m\u001b[0;34m[\u001b[0m\u001b[0mi\u001b[0m\u001b[0;34m]\u001b[0m\u001b[0;34m)\u001b[0m\u001b[0;34m\u001b[0m\u001b[0;34m\u001b[0m\u001b[0m\n\u001b[1;32m      5\u001b[0m \u001b[0msepsis_cases\u001b[0m \u001b[0;34m=\u001b[0m \u001b[0mnp\u001b[0m\u001b[0;34m.\u001b[0m\u001b[0mstack\u001b[0m\u001b[0;34m(\u001b[0m\u001b[0msepsis_cases\u001b[0m\u001b[0;34m)\u001b[0m\u001b[0;34m\u001b[0m\u001b[0;34m\u001b[0m\u001b[0m\n",
      "\u001b[0;31mValueError\u001b[0m: The truth value of an array with more than one element is ambiguous. Use a.any() or a.all()"
     ]
    }
   ],
   "source": [
    "sepsis_cases = []\n",
    "for i in range(train_features.shape[0]):\n",
    "    if label_sepsis[i] == 1:\n",
    "        sepsis_cases.append(train_features[i])\n",
    "sepsis_cases = np.stack(sepsis_cases)\n",
    "\n",
    "balanced_train_features = train_features\n",
    "balanced_label_sepsis = label_sepsis\n",
    "for i in range(15):\n",
    "    balanced_train_features = np.vstack(\n",
    "            (balanced_train_features, sepsis_cases))\n",
    "    balanced_label_sepsis = np.concatenate(\n",
    "            (balanced_label_sepsis, np.ones(shape=(sepsis_cases.shape[0],))))\n",
    "shuffle = np.arange(len(balanced_label_sepsis))\n",
    "np.random.shuffle(shuffle)\n",
    "balanced_train_features = balanced_train_features[shuffle]\n",
    "balanced_label_sepsis = balanced_label_sepsis[shuffle]"
   ]
  },
  {
   "cell_type": "code",
   "execution_count": 73,
   "metadata": {},
   "outputs": [],
   "source": [
    "features_sepsis, featues_sepsis_val, label_sepsis_train, label_sepsis_val = train_test_split(train_features, label_sepsis, test_size=0.2)"
   ]
  },
  {
   "cell_type": "code",
   "execution_count": 90,
   "metadata": {},
   "outputs": [
    {
     "output_type": "execute_result",
     "data": {
      "text/plain": "(4, 12, 36)"
     },
     "metadata": {},
     "execution_count": 90
    }
   ],
   "source": [
    "featues_sepsis_val[[1,2,54,3455]].shape"
   ]
  },
  {
   "cell_type": "code",
   "execution_count": 78,
   "metadata": {},
   "outputs": [
    {
     "output_type": "execute_result",
     "data": {
      "text/plain": "(3799,)"
     },
     "metadata": {},
     "execution_count": 78
    }
   ],
   "source": [
    "label_sepsis_val.shape"
   ]
  },
  {
   "cell_type": "code",
   "execution_count": 86,
   "metadata": {},
   "outputs": [
    {
     "output_type": "execute_result",
     "data": {
      "text/plain": "array([10, 12])"
     },
     "metadata": {},
     "execution_count": 86
    }
   ],
   "source": [
    "a = np.arange(10,15)\n",
    "n = np.arange(5)\n",
    "a[[0,2]]"
   ]
  },
  {
   "cell_type": "code",
   "execution_count": 48,
   "metadata": {},
   "outputs": [
    {
     "output_type": "execute_result",
     "data": {
      "text/plain": "0.4929350134503752"
     },
     "metadata": {},
     "execution_count": 48
    }
   ],
   "source": [
    "len(balanced_label_sepsis[balanced_label_sepsis == 1]) / len(balanced_label_sepsis)"
   ]
  },
  {
   "cell_type": "code",
   "execution_count": 65,
   "metadata": {},
   "outputs": [
    {
     "output_type": "stream",
     "name": "stdout",
     "text": "(1, 35315)\n(1, 35315, 12, 36)\n(18995, 12, 36)\n"
    }
   ],
   "source": [
    "print(balanced_label_sepsis.shape)\n",
    "print(balanced_train_features.shape)\n",
    "print(train_features.shape)"
   ]
  },
  {
   "cell_type": "code",
   "execution_count": 11,
   "metadata": {},
   "outputs": [
    {
     "output_type": "stream",
     "name": "stdout",
     "text": "Examples:\n    Total: 18995\n    Positive: 1088 (5.73% of total)\n\n"
    }
   ],
   "source": [
    "neg, pos = len(label_sepsis[label_sepsis == 0]), len(label_sepsis[label_sepsis == 1])\n",
    "total = neg + pos\n",
    "print('Examples:\\n    Total: {}\\n    Positive: {} ({:.2f}% of total)\\n'.format(\n",
    "    total, pos, 100 * pos / total))\n",
    "initial_bias = np.log([pos/neg])"
   ]
  },
  {
   "cell_type": "code",
   "execution_count": 6,
   "metadata": {},
   "outputs": [
    {
     "output_type": "execute_result",
     "data": {
      "text/plain": "(12, 36)"
     },
     "metadata": {},
     "execution_count": 6
    }
   ],
   "source": [
    "train_features[0].shape"
   ]
  },
  {
   "cell_type": "code",
   "execution_count": 8,
   "metadata": {},
   "outputs": [
    {
     "output_type": "execute_result",
     "data": {
      "text/plain": "array([1., 1., 1., ..., 1., 1., 1.])"
     },
     "metadata": {},
     "execution_count": 8
    }
   ],
   "source": [
    "label_sepsis[label_sepsis == 1]\n",
    "\n",
    "\n"
   ]
  },
  {
   "cell_type": "code",
   "execution_count": null,
   "metadata": {},
   "outputs": [],
   "source": [
    "'''\n",
    "    predictions for test ordered\n",
    "\n",
    "    roc auc evaluation\n",
    "'''\n",
    "early_stopping = tf.keras.callbacks.EarlyStopping(\n",
    "    monitor='val_AUC', \n",
    "    verbose=1,\n",
    "    patience=12,\n",
    "    mode='max',\n",
    "    restore_best_weights=True)\n",
    "\n",
    "\n",
    "\n",
    "model_tests = tf.keras.models.Sequential([\n",
    "    tf.keras.layers.Dense(512, activation='relu', input_shape=(432,)),\n",
    "    tf.keras.layers.Dropout(0.5),\n",
    "    tf.keras.layers.Dense(256, activation='relu'),\n",
    "    #tf.keras.layers.Dropout(0.2),\n",
    "    tf.keras.layers.Dense(64, activation='relu'),\n",
    "    tf.keras.layers.Dense(32, activation='relu'),\n",
    "    tf.keras.layers.Dense(32, activation='relu'),\n",
    "    tf.keras.layers.Dense(10, activation='sigmoid')\n",
    "])\n",
    "\n",
    "model_tests.compile(optimizer='adam',\n",
    "                    loss='binary_crossentropy',\n",
    "                    metrics=[tf.keras.metrics.AUC(multi_label=True, name='AUC')])\n",
    "\n",
    "model_tests.fit(train_features, label_tests, epochs= 50 ,validation_split=0.1, batch_size=64, callbacks=early_stopping)\n",
    "predict_tests = model_tests.predict(test_features)\n",
    "print(roc_auc_score(label_tests, model_tests.predict(train_features)))\n",
    "\n",
    "#.87"
   ]
  },
  {
   "cell_type": "code",
   "execution_count": null,
   "metadata": {},
   "outputs": [],
   "source": [
    "roc_auc_score(label_tests, model_tests.predict(train_features))"
   ]
  },
  {
   "cell_type": "code",
   "execution_count": null,
   "metadata": {},
   "outputs": [],
   "source": [
    "'''\n",
    "    predictions for sepsis\n",
    "\n",
    "    -roc auc evaluation\n",
    "\n",
    "    -problems with imbalanced data\n",
    "'''\n",
    "early_stopping = tf.keras.callbacks.EarlyStopping(\n",
    "    monitor='val_AUC', \n",
    "    verbose=1,\n",
    "    patience=4,\n",
    "    mode='max',\n",
    "    restore_best_weights=True)\n",
    "\n",
    "output_bias = np.log(len(label_sepsis[label_sepsis == 1]) / len(label_sepsis[label_sepsis == 0]))\n",
    "\n",
    "\n",
    "model_sepsis = tf.keras.models.Sequential([\n",
    "    tf.keras.layers.Dense(256, activation='relu', input_shape= (432,)),\n",
    "    tf.keras.layers.Dropout(0.5),\n",
    "    tf.keras.layers.Dense(128, activation='relu'),\n",
    "    tf.keras.layers.Dropout(0.2),\n",
    "    tf.keras.layers.Dense(64, activation='relu'),\n",
    "    #tf.keras.layers.Dropout(0.2),\n",
    "    tf.keras.layers.Dense(32, activation='relu'),\n",
    "    #tf.keras.layers.Dropout(0.3),\n",
    "    tf.keras.layers.Dense(1, activation='softmax', bias_initializer=tf.keras.initializers.Constant(output_bias))\n",
    "])\n",
    "\n",
    "model_sepsis.compile(optimizer=tf.optimizers.Adam(),\n",
    "                    loss=tf.keras.losses.BinaryCrossentropy(),\n",
    "                    metrics=[tf.keras.metrics.AUC(name='AUC')])\n",
    "\n",
    "model_sepsis.fit(train_features, label_sepsis, epochs=3, validation_split=0.2, batch_size=32, callbacks=early_stopping)\n",
    "predict_sepsis = model_sepsis.predict(test_features)\n",
    "print(roc_auc_score(label_sepsis, model_sepsis.predict(train_features)))\n",
    "\n",
    "#AUC .64"
   ]
  },
  {
   "cell_type": "code",
   "execution_count": null,
   "metadata": {},
   "outputs": [],
   "source": [
    "np.around(predict_sepsis, 3)[:20].T"
   ]
  },
  {
   "cell_type": "code",
   "execution_count": null,
   "metadata": {},
   "outputs": [],
   "source": [
    "len(label_sepsis[label_sepsis == 1]) / len(label_sepsis[label_sepsis == 0])"
   ]
  },
  {
   "cell_type": "code",
   "execution_count": null,
   "metadata": {},
   "outputs": [],
   "source": [
    "len(predict_sepsis[predict_sepsis >= 0.5]) / len(predict_sepsis)"
   ]
  },
  {
   "cell_type": "code",
   "execution_count": null,
   "metadata": {},
   "outputs": [],
   "source": [
    "'''\n",
    "    predictions for vital signs \n",
    "'''\n",
    "\n",
    "\n",
    "from tensorflow.keras import backend as K\n",
    "def coeff_determination(y_true, y_pred):\n",
    "    SS_res =  K.sum(K.square( y_true-y_pred ))\n",
    "    SS_tot = K.sum(K.square( y_true - K.mean(y_true) ) )\n",
    "    return ( 1 - SS_res/(SS_tot + K.epsilon()) )\n",
    "\n",
    "    return out\n",
    "\n",
    "\n",
    "def R2(y , y_pred):\n",
    "    return np.mean([0.5 + 0.5 * max(0,r2_score(y[:,i], y_pred[:,i])) for i in range(4)])\n",
    "\n",
    "\n",
    "early_stopping = tf.keras.callbacks.EarlyStopping(\n",
    "    monitor='val_mse',\n",
    "    verbose=1,\n",
    "    patience=12,\n",
    "    mode='min',\n",
    "    restore_best_weights=True)\n",
    "\n",
    "print('learning vitals')\n",
    "model_vitals = tf.keras.models.Sequential([\n",
    "    tf.keras.layers.Dense(200, activation='relu', input_shape=(432,)),\n",
    "    tf.keras.layers.Dropout(0.2),\n",
    "    tf.keras.layers.Dense(200, activation='relu'),\n",
    "    #tf.keras.layers.Dropout(0.2),\n",
    "    tf.keras.layers.Dense(100, activation='relu'),\n",
    "    #tf.keras.layers.Dropout(0.4),\n",
    "    tf.keras.layers.Dense(50, activation='relu'),\n",
    "    tf.keras.layers.Dense(50, activation='relu'),\n",
    "    tf.keras.layers.Dense(25, activation='relu'),\n",
    "    tf.keras.layers.Dense(25, activation='relu'),\n",
    "    tf.keras.layers.Dense(4)\n",
    "])\n",
    "\n",
    "model_vitals.compile(optimizer='adam',\n",
    "                     loss='mean_squared_error',\n",
    "                     metrics=['mse'])\n",
    "\n",
    "model_vitals.fit(train_features, label_vitals, epochs=50, callbacks=early_stopping, validation_split=0.15, batch_size=32)\n",
    "predict_vitals = model_vitals.predict(test_features)\n",
    "print(R2(label_vitals, model_vitals.predict(train_features)))\n",
    "\n",
    "#.74 R2 Score"
   ]
  },
  {
   "cell_type": "code",
   "execution_count": null,
   "metadata": {},
   "outputs": [],
   "source": [
    "R2(label_vitals, model_vitals.predict(train_features))"
   ]
  },
  {
   "cell_type": "code",
   "execution_count": null,
   "metadata": {},
   "outputs": [],
   "source": [
    "'''\n",
    "output to csv file\n",
    "'''\n",
    "\n",
    "gen_output_files(test_ids, predict_tests, predict_sepsis, predict_vitals)\n",
    "\n",
    "# zip the output.csv file\n",
    "!rm output.zip\n",
    "!zip output.zip output.csv"
   ]
  },
  {
   "cell_type": "markdown",
   "metadata": {},
   "source": [
    "\n",
    "\n",
    "train_feature_file = 'train_features.csv'\n",
    "train_label_file = 'train_labels.csv'\n",
    "test_features_file = 'test_features.csv'\n",
    "\n",
    "train_features = np.genfromtxt(train_feature_file, delimiter=',', skip_header=1)\n",
    "train_labels = np.genfromtxt(train_label_file, delimiter=',', skip_header=1)\n",
    "\n",
    "test_features = np.genfromtxt(test_features_file, delimiter=',', skip_header=1)\n",
    "\n",
    "test_ids = test_features[::12,0].reshape(-1,1)"
   ]
  }
 ],
 "metadata": {
  "language_info": {
   "name": "python",
   "codemirror_mode": {
    "name": "ipython",
    "version": 3
   },
   "version": "3.8.3-final"
  },
  "orig_nbformat": 2,
  "file_extension": ".py",
  "mimetype": "text/x-python",
  "name": "python",
  "npconvert_exporter": "python",
  "pygments_lexer": "ipython3",
  "version": 3,
  "kernelspec": {
   "name": "python38164bit6b046f1caaf743f58e47a94139250185",
   "display_name": "Python 3.8.1 64-bit"
  }
 },
 "nbformat": 4,
 "nbformat_minor": 2
}